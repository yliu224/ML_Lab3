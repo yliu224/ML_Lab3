{
 "cells": [
  {
   "cell_type": "code",
   "execution_count": 19,
   "metadata": {},
   "outputs": [],
   "source": [
    "import pandas as pd\n",
    "import numpy as np\n",
    "from decision_tree import decision_tree\n",
    "from sklearn.metrics import accuracy_score"
   ]
  },
  {
   "cell_type": "code",
   "execution_count": 20,
   "metadata": {},
   "outputs": [],
   "source": [
    "def readfile(filepath):\n",
    "    data = pd.read_csv(filepath)\n",
    "    X = data.iloc[:,1:-1]\n",
    "    Y = data.iloc[:,-1]\n",
    "    \n",
    "    return X.values.tolist(),Y.values.tolist()"
   ]
  },
  {
   "cell_type": "code",
   "execution_count": 21,
   "metadata": {},
   "outputs": [],
   "source": [
    "X,Y = readfile('zoo.csv')"
   ]
  },
  {
   "cell_type": "markdown",
   "metadata": {},
   "source": [
    "## Entropy ##"
   ]
  },
  {
   "cell_type": "code",
   "execution_count": 22,
   "metadata": {},
   "outputs": [
    {
     "data": {
      "text/plain": [
       "0.9504950495049505"
      ]
     },
     "execution_count": 22,
     "metadata": {},
     "output_type": "execute_result"
    }
   ],
   "source": [
    "de = decision_tree()\n",
    "de.fit(X,Y)\n",
    "re = de.predict(X)\n",
    "accuracy_score(Y,re)"
   ]
  },
  {
   "cell_type": "markdown",
   "metadata": {},
   "source": [
    "## Gini ##"
   ]
  },
  {
   "cell_type": "code",
   "execution_count": 24,
   "metadata": {},
   "outputs": [
    {
     "data": {
      "text/plain": [
       "0.9504950495049505"
      ]
     },
     "execution_count": 24,
     "metadata": {},
     "output_type": "execute_result"
    }
   ],
   "source": [
    "dg = decision_tree(\"gini\")\n",
    "dg.fit(X,Y)\n",
    "rg = dg.predict(X)\n",
    "accuracy_score(Y,rg)"
   ]
  },
  {
   "cell_type": "code",
   "execution_count": 25,
   "metadata": {},
   "outputs": [
    {
     "name": "stdout",
     "output_type": "stream",
     "text": [
      "{12: {0: {11: {0: {7: {0: {7: 4}, 1: {3: 3}}}, 1: {2: {0: {1: 3}, 1: {4: 13}}}}}, 2: {0: {0: {2: 20}, 1: {1: 7}}}, 4: {0: {0: {4: {0: {3: 2}, 1: {5: {0: {7: 1}, 1: {5: 4}}}}}, 1: {1: 31}}}, 5: {7: 1}, 6: {5: {0: {6: 8}, 1: {7: 2}}}, 8: {7: 2}}}\n"
     ]
    }
   ],
   "source": [
    "print(dg.tree)"
   ]
  }
 ],
 "metadata": {
  "kernelspec": {
   "display_name": "Python 3",
   "language": "python",
   "name": "python3"
  },
  "language_info": {
   "codemirror_mode": {
    "name": "ipython",
    "version": 3
   },
   "file_extension": ".py",
   "mimetype": "text/x-python",
   "name": "python",
   "nbconvert_exporter": "python",
   "pygments_lexer": "ipython3",
   "version": "3.6.4"
  }
 },
 "nbformat": 4,
 "nbformat_minor": 2
}
